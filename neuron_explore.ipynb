{
 "cells": [
  {
   "cell_type": "code",
   "execution_count": 1,
   "metadata": {},
   "outputs": [],
   "source": [
    "import numpy as np\n",
    "import matplotlib.pyplot as plt\n",
    "import pandas as pd\n",
    "import pprint\n",
    "from utils.neuron import Neuron\n",
    "from utils.layer import Layer"
   ]
  },
  {
   "cell_type": "code",
   "execution_count": null,
   "metadata": {},
   "outputs": [],
   "source": [
    "n1 = Neuron(1.22)\n",
    "n2 = Neuron(1.22)"
   ]
  },
  {
   "cell_type": "code",
   "execution_count": null,
   "metadata": {},
   "outputs": [],
   "source": [
    "n1.get_state()"
   ]
  },
  {
   "cell_type": "code",
   "execution_count": null,
   "metadata": {},
   "outputs": [],
   "source": [
    "n1.feed_forward(n2)\n",
    "\n",
    "n2.feed_forward(n1)"
   ]
  },
  {
   "cell_type": "code",
   "execution_count": null,
   "metadata": {},
   "outputs": [],
   "source": [
    "n1.signal"
   ]
  },
  {
   "cell_type": "code",
   "execution_count": null,
   "metadata": {},
   "outputs": [],
   "source": [
    "print(n1.get_state())\n",
    "print(n2.get_state())"
   ]
  },
  {
   "cell_type": "code",
   "execution_count": null,
   "metadata": {},
   "outputs": [],
   "source": [
    "print('')\n",
    "pprint.pprint(n1.get_weights())\n",
    "print('')\n",
    "pprint.pprint(n2.get_weights())"
   ]
  },
  {
   "cell_type": "code",
   "execution_count": null,
   "metadata": {},
   "outputs": [],
   "source": [
    "plt.plot(n1.signal)"
   ]
  },
  {
   "cell_type": "code",
   "execution_count": null,
   "metadata": {},
   "outputs": [],
   "source": [
    "plt.plot(n2.signal)"
   ]
  },
  {
   "cell_type": "code",
   "execution_count": null,
   "metadata": {},
   "outputs": [],
   "source": [
    "df = pd.DataFrame(n1.weights)\n",
    "df.corr()"
   ]
  },
  {
   "cell_type": "code",
   "execution_count": null,
   "metadata": {},
   "outputs": [],
   "source": [
    "df2 = pd.DataFrame(n2.weights)\n",
    "df2.corr()"
   ]
  },
  {
   "cell_type": "code",
   "execution_count": null,
   "metadata": {},
   "outputs": [],
   "source": [
    "n1.signal"
   ]
  },
  {
   "cell_type": "code",
   "execution_count": null,
   "metadata": {},
   "outputs": [],
   "source": [
    "def train()\n",
    "\n",
    "n2.feed_forward(n1)\n",
    "n1.feed_forward(n2)\n",
    "plt.plot(n2.signal)\n",
    "plt.show()\n",
    "\n",
    "    "
   ]
  },
  {
   "cell_type": "code",
   "execution_count": 9,
   "metadata": {},
   "outputs": [
    {
     "name": "stdout",
     "output_type": "stream",
     "text": [
      "output [array([0.95246453]), array([0.55209637])] and weights [[-0.10696058925476493, 0], [1.78293, 0], [0.9524645324828985, 0.5520963668509515]] and state 0.5520963668509515\n",
      "\n",
      "output [array([0.86974651]), array([0.87644157])] and weights [[0.8777179662631132, -1], [1.78293, 0], [0.8697465098094662, 0.8764415737942812]] and state 0.8764415737942812\n",
      "\n",
      "output [array([0.83754088]), array([0.77629394])] and weights [[-0.620898967091815, -1], [1.78293, 0], [0.837540881908326, 0.7762939418769902]] and state 0.7762939418769902\n",
      "\n",
      "output [array([0.63399149]), array([0.32695728])] and weights [[0.8062828932465183, 0], [1.78293, 0], [0.6339914851265105, 0.3269572758207991]] and state 0.3269572758207991\n",
      "\n",
      "output [array([0.98889684]), array([0.8669796])] and weights [[0.5148862307924162, 0], [1.78293, 0], [0.9888968426725799, 0.8669796038903839]] and state 0.8669796038903839\n",
      "\n",
      "output [array([0.87213385]), array([0.92920122])] and weights [[0.6082624203408875, -1], [1.78293, 0], [0.872133848154452, 0.9292012187191802]] and state 0.9292012187191802\n",
      "\n",
      "output [array([0.69125739]), array([0.36244311])] and weights [[0.35533615003334296, 0], [1.78293, 0], [0.6912573930754767, 0.3624431142175629]] and state 0.3624431142175629\n",
      "\n",
      "output [array([0.61560934]), array([0.91472287])] and weights [[0.6372587298936048, -1], [1.78293, 0], [0.6156093447676765, 0.914722873563604]] and state 0.914722873563604\n",
      "\n",
      "output [array([0.73931605]), array([0.97984873])] and weights [[0.33794927065679903, 0], [1.78293, 0], [0.7393160536798149, 0.9798487322471433]] and state 0.9798487322471433\n",
      "\n",
      "output [array([0.22538503]), array([0.96230251])] and weights [[-0.8786659476273893, 0], [1.78293, 0], [0.22538502521056855, 0.9623025083196389]] and state 0.9623025083196389\n",
      "\n",
      "output [array([0.68697114]), array([0.97765834])] and weights [[-0.8092421456095646, -1], [1.78293, 0], [0.6869711395473758, 0.9776583398330946]] and state 0.9776583398330946\n",
      "\n",
      "output [array([0.61766108]), array([0.95386378])] and weights [[-0.6079802447407141, 0], [1.78293, 0], [0.617661083393951, 0.9538637817695741]] and state 0.9538637817695741\n",
      "\n",
      "<utils.layer.Layer object at 0x7fabecb69090>\n"
     ]
    }
   ],
   "source": [
    "transducer = Neuron(1.78293)\n",
    "layer_1 = Layer(12)\n",
    "layer_1.forward(transducer)\n",
    "print(layer_1)"
   ]
  },
  {
   "cell_type": "code",
   "execution_count": 13,
   "metadata": {},
   "outputs": [
    {
     "ename": "TypeError",
     "evalue": "'Layer' object is not subscriptable",
     "output_type": "error",
     "traceback": [
      "\u001b[0;31m---------------------------------------------------------------------------\u001b[0m",
      "\u001b[0;31mTypeError\u001b[0m                                 Traceback (most recent call last)",
      "\u001b[1;32m/Users/kjams/Desktop/nets/neuron_explore.ipynb Cell 15\u001b[0m line \u001b[0;36m2\n\u001b[1;32m      <a href='vscode-notebook-cell:/Users/kjams/Desktop/nets/neuron_explore.ipynb#X24sZmlsZQ%3D%3D?line=0'>1</a>\u001b[0m \u001b[39mfor\u001b[39;00m _ \u001b[39min\u001b[39;00m \u001b[39mrange\u001b[39m(\u001b[39m12\u001b[39m):\n\u001b[0;32m----> <a href='vscode-notebook-cell:/Users/kjams/Desktop/nets/neuron_explore.ipynb#X24sZmlsZQ%3D%3D?line=1'>2</a>\u001b[0m     layer_1\u001b[39m.\u001b[39mforward(layer_1[\u001b[39m0\u001b[39;49m])\n\u001b[1;32m      <a href='vscode-notebook-cell:/Users/kjams/Desktop/nets/neuron_explore.ipynb#X24sZmlsZQ%3D%3D?line=2'>3</a>\u001b[0m     \u001b[39mfor\u001b[39;00m n \u001b[39min\u001b[39;00m layer_1\u001b[39m.\u001b[39mneurons:\n\u001b[1;32m      <a href='vscode-notebook-cell:/Users/kjams/Desktop/nets/neuron_explore.ipynb#X24sZmlsZQ%3D%3D?line=3'>4</a>\u001b[0m         plt\u001b[39m.\u001b[39mplot(n\u001b[39m.\u001b[39msignal)\n",
      "\u001b[0;31mTypeError\u001b[0m: 'Layer' object is not subscriptable"
     ]
    }
   ],
   "source": [
    "for _ in range(12):\n",
    "    layer_1.forward(layer_1[0])\n",
    "    for n in layer_1.neurons:\n",
    "        plt.plot(n.signal)\n",
    "        plt.show()"
   ]
  },
  {
   "cell_type": "code",
   "execution_count": null,
   "metadata": {},
   "outputs": [],
   "source": []
  },
  {
   "cell_type": "code",
   "execution_count": null,
   "metadata": {},
   "outputs": [],
   "source": []
  },
  {
   "cell_type": "code",
   "execution_count": null,
   "metadata": {},
   "outputs": [],
   "source": [
    "print(n2.weights)"
   ]
  },
  {
   "cell_type": "code",
   "execution_count": null,
   "metadata": {},
   "outputs": [],
   "source": [
    "plt.plot(n2.signal)"
   ]
  }
 ],
 "metadata": {
  "kernelspec": {
   "display_name": "nlp",
   "language": "python",
   "name": "python3"
  },
  "language_info": {
   "codemirror_mode": {
    "name": "ipython",
    "version": 3
   },
   "file_extension": ".py",
   "mimetype": "text/x-python",
   "name": "python",
   "nbconvert_exporter": "python",
   "pygments_lexer": "ipython3",
   "version": "3.10.12"
  }
 },
 "nbformat": 4,
 "nbformat_minor": 2
}
