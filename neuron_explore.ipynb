{
 "cells": [
  {
   "cell_type": "code",
   "execution_count": 1,
   "metadata": {},
   "outputs": [],
   "source": [
    "import pprint\n",
    "import numpy as np\n",
    "import networkx as nx\n",
    "import matplotlib.pyplot as plt\n",
    "import pandas as pd\n",
    "from utils.neuron import Neuron\n",
    "from utils.layer import Layer"
   ]
  },
  {
   "cell_type": "code",
   "execution_count": 2,
   "metadata": {},
   "outputs": [
    {
     "name": "stdout",
     "output_type": "stream",
     "text": [
      "[0.67587927 0.75676936]\n",
      "[0.48822009 0.00325427]\n",
      "[0.67941795 0.3538697 ]\n"
     ]
    }
   ],
   "source": [
    "input_neuron = Neuron(1.22)\n",
    "n1 = Neuron(input_neuron.input)\n",
    "n2 = Neuron(input_neuron.input)"
   ]
  },
  {
   "cell_type": "code",
   "execution_count": 3,
   "metadata": {},
   "outputs": [
    {
     "data": {
      "text/plain": [
       "0"
      ]
     },
     "execution_count": 3,
     "metadata": {},
     "output_type": "execute_result"
    }
   ],
   "source": [
    "n1.get_state()"
   ]
  },
  {
   "cell_type": "code",
   "execution_count": 4,
   "metadata": {},
   "outputs": [
    {
     "data": {
      "text/plain": [
       "<utils.neuron.Neuron at 0x7f80a583db10>"
      ]
     },
     "execution_count": 4,
     "metadata": {},
     "output_type": "execute_result"
    }
   ],
   "source": [
    "n1.feed_forward(input_neuron.signal)\n",
    "n2.feed_forward(input_neuron.signal)"
   ]
  },
  {
   "cell_type": "code",
   "execution_count": 5,
   "metadata": {},
   "outputs": [
    {
     "data": {
      "text/plain": [
       "array([0.46276481, 0.57835553])"
      ]
     },
     "execution_count": 5,
     "metadata": {},
     "output_type": "execute_result"
    }
   ],
   "source": [
    "n1.signal"
   ]
  },
  {
   "cell_type": "code",
   "execution_count": 6,
   "metadata": {},
   "outputs": [
    {
     "name": "stdout",
     "output_type": "stream",
     "text": [
      "0\n",
      "0.5783555321703436\n",
      "0.22647130960767808\n"
     ]
    }
   ],
   "source": [
    "print(input_neuron.get_state())\n",
    "print(n1.get_state())\n",
    "print(n2.get_state())"
   ]
  },
  {
   "cell_type": "code",
   "execution_count": 7,
   "metadata": {},
   "outputs": [
    {
     "name": "stdout",
     "output_type": "stream",
     "text": [
      "\n",
      "[array([0.46276481, 0.38328397]),\n",
      " array([0.57835553, 0.00246273]),\n",
      " array([0.26194409, 0.39128387])]\n",
      "\n",
      "[array([0.267757 , 0.5557269]),\n",
      " array([0.22647131, 0.2728117 ]),\n",
      " array([0.57605519, 0.40400267])]\n"
     ]
    }
   ],
   "source": [
    "print('')\n",
    "pprint.pprint(n1.get_weights())\n",
    "print('')\n",
    "pprint.pprint(n2.get_weights())"
   ]
  },
  {
   "cell_type": "code",
   "execution_count": 8,
   "metadata": {},
   "outputs": [
    {
     "data": {
      "text/plain": [
       "[<matplotlib.lines.Line2D at 0x7f80a6ec8160>]"
      ]
     },
     "execution_count": 8,
     "metadata": {},
     "output_type": "execute_result"
    },
    {
     "data": {
      "image/png": "[encoded data removed]",
      "text/plain": [
       "<Figure size 640x480 with 1 Axes>"
      ]
     },
     "metadata": {},
     "output_type": "display_data"
    }
   ],
   "source": [
    "plt.plot(n1.signal)"
   ]
  },
  {
   "cell_type": "code",
   "execution_count": 9,
   "metadata": {},
   "outputs": [
    {
     "name": "stdout",
     "output_type": "stream",
     "text": [
      "[0.35956939 0.5835752 ]\n",
      "[0.31536148 0.04125614]\n",
      "[0.29792248 0.66816324]\n",
      "[0.57880656 0.54954559]\n",
      "[0.18351083 0.66277603]\n",
      "[0.41027595 0.73660348]\n",
      "[0.06525138 0.27942849]\n",
      "[0.55679058 0.60871274]\n",
      "[0.73570774 0.53592317]\n",
      "[0.57707126 0.35313822]\n",
      "[0.27441455 0.45682915]\n",
      "[0.55979574 0.08124979]\n",
      "[0.4328059  0.62213376]\n"
     ]
    },
    {
     "ename": "NameError",
     "evalue": "name 'transducer' is not defined",
     "output_type": "error",
     "traceback": [
      "\u001b[0;31m---------------------------------------------------------------------------\u001b[0m",
      "\u001b[0;31mNameError\u001b[0m                                 Traceback (most recent call last)",
      "\u001b[1;32m/Users/kjams/Desktop/nets/neuron_explore.ipynb Cell 9\u001b[0m line \u001b[0;36m3\n\u001b[1;32m      <a href='vscode-notebook-cell:/Users/kjams/Desktop/nets/neuron_explore.ipynb#X21sZmlsZQ%3D%3D?line=0'>1</a>\u001b[0m transducer \u001b[39m=\u001b[39m Neuron(\u001b[39m1.78293\u001b[39m)\n\u001b[1;32m      <a href='vscode-notebook-cell:/Users/kjams/Desktop/nets/neuron_explore.ipynb#X21sZmlsZQ%3D%3D?line=1'>2</a>\u001b[0m layer_1 \u001b[39m=\u001b[39m Layer(\u001b[39m12\u001b[39m)\n\u001b[0;32m----> <a href='vscode-notebook-cell:/Users/kjams/Desktop/nets/neuron_explore.ipynb#X21sZmlsZQ%3D%3D?line=2'>3</a>\u001b[0m layer_1\u001b[39m.\u001b[39;49mforward(transducer\u001b[39m.\u001b[39;49msignal)\n\u001b[1;32m      <a href='vscode-notebook-cell:/Users/kjams/Desktop/nets/neuron_explore.ipynb#X21sZmlsZQ%3D%3D?line=3'>4</a>\u001b[0m \u001b[39mprint\u001b[39m(layer_1)\n",
      "File \u001b[0;32m~/Desktop/nets/utils/layer.py:17\u001b[0m, in \u001b[0;36mLayer.forward\u001b[0;34m(self, input)\u001b[0m\n\u001b[1;32m     11\u001b[0m \u001b[39mdef\u001b[39;00m \u001b[39mforward\u001b[39m(\u001b[39mself\u001b[39m, \u001b[39minput\u001b[39m: \u001b[39mobject\u001b[39m) \u001b[39m-\u001b[39m\u001b[39m>\u001b[39m np\u001b[39m.\u001b[39mndarray:\n\u001b[1;32m     12\u001b[0m \u001b[39m    \u001b[39m\u001b[39m\"\"\"\u001b[39;00m\n\u001b[1;32m     13\u001b[0m \u001b[39m    Feed the input through all neurons in the layer.\u001b[39;00m\n\u001b[1;32m     14\u001b[0m \u001b[39m    inputs is neuron from previous layer :) \u001b[39;00m\n\u001b[1;32m     15\u001b[0m \n\u001b[1;32m     16\u001b[0m \u001b[39m    \"\"\"\u001b[39;00m\n\u001b[0;32m---> 17\u001b[0m     \u001b[39mself\u001b[39m\u001b[39m.\u001b[39mneurons \u001b[39m=\u001b[39m np\u001b[39m.\u001b[39marray([neuron\u001b[39m.\u001b[39mfeed_forward(transducer\u001b[39m.\u001b[39msignal)\n\u001b[1;32m     18\u001b[0m                              \u001b[39mfor\u001b[39;00m neuron \u001b[39min\u001b[39;00m \u001b[39mself\u001b[39m\u001b[39m.\u001b[39mneurons])\n",
      "File \u001b[0;32m~/Desktop/nets/utils/layer.py:17\u001b[0m, in \u001b[0;36m<listcomp>\u001b[0;34m(.0)\u001b[0m\n\u001b[1;32m     11\u001b[0m \u001b[39mdef\u001b[39;00m \u001b[39mforward\u001b[39m(\u001b[39mself\u001b[39m, \u001b[39minput\u001b[39m: \u001b[39mobject\u001b[39m) \u001b[39m-\u001b[39m\u001b[39m>\u001b[39m np\u001b[39m.\u001b[39mndarray:\n\u001b[1;32m     12\u001b[0m \u001b[39m    \u001b[39m\u001b[39m\"\"\"\u001b[39;00m\n\u001b[1;32m     13\u001b[0m \u001b[39m    Feed the input through all neurons in the layer.\u001b[39;00m\n\u001b[1;32m     14\u001b[0m \u001b[39m    inputs is neuron from previous layer :) \u001b[39;00m\n\u001b[1;32m     15\u001b[0m \n\u001b[1;32m     16\u001b[0m \u001b[39m    \"\"\"\u001b[39;00m\n\u001b[0;32m---> 17\u001b[0m     \u001b[39mself\u001b[39m\u001b[39m.\u001b[39mneurons \u001b[39m=\u001b[39m np\u001b[39m.\u001b[39marray([neuron\u001b[39m.\u001b[39mfeed_forward(transducer\u001b[39m.\u001b[39msignal)\n\u001b[1;32m     18\u001b[0m                              \u001b[39mfor\u001b[39;00m neuron \u001b[39min\u001b[39;00m \u001b[39mself\u001b[39m\u001b[39m.\u001b[39mneurons])\n",
      "\u001b[0;31mNameError\u001b[0m: name 'transducer' is not defined"
     ]
    }
   ],
   "source": [
    "transducer = Neuron(1.78293)\n",
    "layer_1 = Layer(12)\n",
    "layer_1.forward(transducer)\n",
    "print(layer_1)"
   ]
  },
  {
   "cell_type": "code",
   "execution_count": null,
   "metadata": {},
   "outputs": [],
   "source": [
    "for _ in range(12):\n",
    "    layer_1.forward(layer_1.neurons[0].signal)\n",
    "    for n in layer_1.neurons:\n",
    "        plt.plot(n.signal[:-1])"
   ]
  },
  {
   "cell_type": "code",
   "execution_count": null,
   "metadata": {},
   "outputs": [],
   "source": []
  },
  {
   "cell_type": "code",
   "execution_count": null,
   "metadata": {},
   "outputs": [],
   "source": [
    "print(n2.weights)"
   ]
  },
  {
   "cell_type": "code",
   "execution_count": null,
   "metadata": {},
   "outputs": [],
   "source": [
    "plt.plot(n2.signal)"
   ]
  }
 ],
 "metadata": {
  "kernelspec": {
   "display_name": "nlp",
   "language": "python",
   "name": "python3"
  },
  "language_info": {
   "codemirror_mode": {
    "name": "ipython",
    "version": 3
   },
   "file_extension": ".py",
   "mimetype": "text/x-python",
   "name": "python",
   "nbconvert_exporter": "python",
   "pygments_lexer": "ipython3",
   "version": "3.10.12"
  }
 },
 "nbformat": 4,
 "nbformat_minor": 2
}
